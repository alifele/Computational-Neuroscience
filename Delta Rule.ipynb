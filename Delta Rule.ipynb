{
 "cells": [
  {
   "cell_type": "code",
   "execution_count": 1,
   "metadata": {},
   "outputs": [],
   "source": [
    "import numpy as np\n",
    "import matplotlib.pyplot as plt"
   ]
  },
  {
   "cell_type": "markdown",
   "metadata": {},
   "source": [
    "suppose that we want the variable ;x' reach its goal 'target'\n",
    "to do this you can use the delta rule:\n",
    "\n",
    "$x \\rightarrow target$\n",
    "\n",
    "$x = x + \\epsilon\\delta$\n",
    "\n",
    "in which the $\\delta$ is $(target - x)$ and $\\epsilon$ is the learning rate. in the code bellow you can find the implementation of this idea"
   ]
  },
  {
   "cell_type": "code",
   "execution_count": 7,
   "metadata": {},
   "outputs": [],
   "source": [
    "target = 10\n",
    "x = 0\n",
    "eps = 0.1\n",
    "x_list = []"
   ]
  },
  {
   "cell_type": "code",
   "execution_count": 8,
   "metadata": {},
   "outputs": [],
   "source": [
    "for i in range(100):\n",
    "    x = x + eps*(target-x)\n",
    "    x_list.append(x)"
   ]
  },
  {
   "cell_type": "code",
   "execution_count": 9,
   "metadata": {},
   "outputs": [
    {
     "data": {
      "text/plain": [
       "[<matplotlib.lines.Line2D at 0x7f2ebb764dd0>]"
      ]
     },
     "execution_count": 9,
     "metadata": {},
     "output_type": "execute_result"
    },
    {
     "data": {
      "image/png": "[encoded data removed]",
      "text/plain": [
       "<Figure size 432x288 with 1 Axes>"
      ]
     },
     "metadata": {
      "needs_background": "light"
     },
     "output_type": "display_data"
    }
   ],
   "source": [
    "plt.plot(x_list)"
   ]
  },
  {
   "cell_type": "markdown",
   "metadata": {},
   "source": [
    "# General Approach\n",
    "\n",
    "suppose that we want the a function of variable $x$, .i.e $f(x)$  reach its target $T$. In each step we choose a value for x and determine how close is $f(x)$ to $T$.\n",
    "A good measure for this is the squared error. \n",
    "\n",
    "$Erorr = (f(x) - T)^2$\n",
    "\n",
    "now to decide what value the x should have, we should change x in a way that the $Error$ function decreases.\n",
    "To do this we can calculate the gradient to $Erorr$ with respect to $x$ and change the x in that direction.\n",
    "\n",
    "\n",
    "$\\dfrac{\\partial Erorr}{\\partial x} = 2(f(x) - T)\\dfrac{\\partial f(x)}{\\partial(x)} = 2\\delta \\dfrac{\\partial f(x)}{\\partial(x)}$\n",
    "\n",
    "$x \\rightarrow x + \\epsilon \\delta \\dfrac{\\partial f(x)}{\\partial(x)}$\n",
    "\n",
    "\n",
    "\n",
    "\n"
   ]
  },
  {
   "cell_type": "code",
   "execution_count": 37,
   "metadata": {},
   "outputs": [],
   "source": [
    "# We want f(x) = 2*x reach its goal T = 10"
   ]
  },
  {
   "cell_type": "code",
   "execution_count": 56,
   "metadata": {},
   "outputs": [],
   "source": [
    "target = 10\n",
    "eps = 0.01\n",
    "x_list = []\n",
    "x = 0"
   ]
  },
  {
   "cell_type": "code",
   "execution_count": null,
   "metadata": {},
   "outputs": [],
   "source": []
  },
  {
   "cell_type": "code",
   "execution_count": 57,
   "metadata": {},
   "outputs": [],
   "source": [
    "def f(x):\n",
    "    return 2*x\n",
    "\n",
    "def df(x):\n",
    "    return 2\n",
    "\n"
   ]
  },
  {
   "cell_type": "code",
   "execution_count": 59,
   "metadata": {},
   "outputs": [],
   "source": [
    "for i in range(100):\n",
    "    x = x + eps*(target - f(x))*df(x)\n",
    "    x_list.append(x)"
   ]
  },
  {
   "cell_type": "code",
   "execution_count": 60,
   "metadata": {},
   "outputs": [
    {
     "data": {
      "text/plain": [
       "[<matplotlib.lines.Line2D at 0x7f2ebb1ff5d0>]"
      ]
     },
     "execution_count": 60,
     "metadata": {},
     "output_type": "execute_result"
    },
    {
     "data": {
      "image/png": "[encoded data removed]",
      "text/plain": [
       "<Figure size 432x288 with 1 Axes>"
      ]
     },
     "metadata": {
      "needs_background": "light"
     },
     "output_type": "display_data"
    }
   ],
   "source": [
    "plt.plot(x_list)"
   ]
  },
  {
   "cell_type": "markdown",
   "metadata": {},
   "source": [
    "# Analogy to differential equation\n",
    "# $\\tau \\dfrac{\\partial v}{\\partial t} = (v_\\infty-v)$\n",
    "\n",
    "from the General approach, if we consider a special case in which $f(x) = x$, then the delta rule will be *Equvalent* to the mentioned differential equation. Because:\n",
    "\n",
    "$\\tau \\dfrac{\\partial v}{\\partial t} = (v_\\infty-v)$\n",
    "\n",
    "$ \\tau \\dfrac{\\Delta x}{\\Delta t} = v_\\infty-v$\n",
    "\n",
    "$ \\Delta v = \\dfrac{\\Delta t}{\\tau}(v_\\infty - v)$\n",
    "\n",
    "$v \\rightarrow v + \\epsilon (v_\\infty - v) $\n",
    "\n",
    "## $v \\rightarrow v + \\epsilon \\delta$\n",
    "\n",
    "\n",
    "\n"
   ]
  },
  {
   "cell_type": "code",
   "execution_count": null,
   "metadata": {},
   "outputs": [],
   "source": []
  },
  {
   "cell_type": "code",
   "execution_count": null,
   "metadata": {},
   "outputs": [],
   "source": []
  },
  {
   "cell_type": "code",
   "execution_count": null,
   "metadata": {},
   "outputs": [],
   "source": []
  }
 ],
 "metadata": {
  "kernelspec": {
   "display_name": "Python 3",
   "language": "python",
   "name": "python3"
  },
  "language_info": {
   "codemirror_mode": {
    "name": "ipython",
    "version": 3
   },
   "file_extension": ".py",
   "mimetype": "text/x-python",
   "name": "python",
   "nbconvert_exporter": "python",
   "pygments_lexer": "ipython3",
   "version": "3.7.6"
  }
 },
 "nbformat": 4,
 "nbformat_minor": 2
}
